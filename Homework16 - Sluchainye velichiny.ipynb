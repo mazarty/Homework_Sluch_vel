{
 "cells": [
  {
   "cell_type": "code",
   "execution_count": 30,
   "metadata": {},
   "outputs": [
    {
     "name": "stdout",
     "output_type": "stream",
     "text": [
      "-0.20137\n"
     ]
    }
   ],
   "source": [
    "\"\"\"Смоделировать игру против лотерейного автомата типа “777”. Игрок платит 1 руб., \n",
    "после чего выпадает случайное целое число, равномерно распределенное от 0 до 999. При некоторых значениях числа игрок п\n",
    "олучает выигрыш. Выгодна ли игра игроку? Сколько в среднем приобретает или теряет игрок за одну игру?\n",
    "\n",
    "777: 200 руб.\n",
    "999: 100 руб.\n",
    "555: 50 руб.\n",
    "333: 15 руб.\n",
    "111: 10 руб.\n",
    "*77: 5 руб.\n",
    "**7: 3 руб.\n",
    "*00: 2 руб.\n",
    "**0: 1 руб.\n",
    "\n",
    "\"\"\"\n",
    "\n",
    "import numpy as np\n",
    "\n",
    "\n",
    "trials = 1000000    # Количество попыток\n",
    "cost =1 #цена одной игры\n",
    "\n",
    "sum_income = 0 #суммарный доход от всех попыток\n",
    "\n",
    "for i in range(trials):\n",
    "    auto = np.random.randint(0, 1000)\n",
    "    if auto == 777: prize= 200\n",
    "    elif auto == 999: prize= 100\n",
    "    elif auto == 555: prize= 50\n",
    "    elif auto == 333: prize= 15\n",
    "    elif auto == 111: prize= 10\n",
    "    elif auto%100 == 77: prize=5\n",
    "    elif (auto%100)%10 ==7: prize=3\n",
    "    elif (auto%100) ==0: prize=2\n",
    "    elif (auto%100)%10 ==0: prize=1\n",
    "    else: prize=0\n",
    "    #print(auto, \"---\", prize)\n",
    "    income = prize - cost\n",
    "    sum_income += income\n",
    "\n",
    "avg_income= sum_income/trials\n",
    "print(avg_income)\n",
    "\n",
    "#средний доход: -0.20137 руб Игра не выгодна"
   ]
  },
  {
   "cell_type": "code",
   "execution_count": 50,
   "metadata": {},
   "outputs": [
    {
     "name": "stdout",
     "output_type": "stream",
     "text": [
      "-0.19999999999999996\n"
     ]
    }
   ],
   "source": [
    "#Дополнительное задание повышенной сложности. \n",
    "#Теоретически рассчитать средний выигрыш (проигрыш) и сравнить с результатами моделирования\n",
    "cost=1\n",
    "#всего 1000 исходов от 0 до 999\n",
    "P_777 = 1/1000\n",
    "P_999 = 1/1000\n",
    "P_555 = 1/1000\n",
    "P_333 = 1/1000\n",
    "P_111 = 1/1000\n",
    "P_x77 = 9/1000 #077, 177, ... 977 кроме 777\n",
    "P_xx7 = 90/1000 #На первом месте 10 варинт цифр, на втором =10, на третьем =1 \n",
    "#итого 10*10*1=100. убираем 1:777 и 9 вариантов хх7. Остаётся 90\n",
    "P_x00 = 10/1000 #На первом месте 10 вариант цифр, на 2ом =1 на 3ем=1. Итого 10*1*1=10\n",
    "P_xx0 = 90/1000 #На первом месте 10 вариант цифр, на 2ом =10 на 3ем=1. 10*10*1=100. Убираем 10 вар из x00. Итого=90\n",
    "\n",
    "prize = P_777*200 + P_999*100 + P_555*50 + P_333*15 + P_111*10 +P_x77*5 + P_xx7*3 + P_x00*2+P_xx0*1\n",
    "income = prize - cost\n",
    "print(income)\n",
    "# -0.19999999999999996 = теория , -0.20137 = модель "
   ]
  },
  {
   "cell_type": "code",
   "execution_count": 46,
   "metadata": {},
   "outputs": [
    {
     "name": "stdout",
     "output_type": "stream",
     "text": [
      "100\n"
     ]
    }
   ],
   "source": [
    "#проверяем кол-во P_xx7 = 100\n",
    "s=0\n",
    "for i in range(1000):\n",
    "    if (i%100)%10 ==7: s+=1\n",
    "print(s)"
   ]
  },
  {
   "cell_type": "code",
   "execution_count": 47,
   "metadata": {},
   "outputs": [
    {
     "name": "stdout",
     "output_type": "stream",
     "text": [
      "10\n"
     ]
    }
   ],
   "source": [
    "#проверяем кол-во P_x00 = 10\n",
    "s=0\n",
    "for i in range(1000):\n",
    "    if (i%100) ==0: s+=1\n",
    "print(s)"
   ]
  },
  {
   "cell_type": "code",
   "execution_count": 48,
   "metadata": {},
   "outputs": [
    {
     "name": "stdout",
     "output_type": "stream",
     "text": [
      "100\n"
     ]
    }
   ],
   "source": [
    "#проверяем кол-во P_xx0 = 100\n",
    "s=0\n",
    "for i in range(1000):\n",
    "    if (i%100)%10 ==0: s+=1\n",
    "print(s)"
   ]
  }
 ],
 "metadata": {
  "kernelspec": {
   "display_name": "Python 3",
   "language": "python",
   "name": "python3"
  },
  "language_info": {
   "codemirror_mode": {
    "name": "ipython",
    "version": 3
   },
   "file_extension": ".py",
   "mimetype": "text/x-python",
   "name": "python",
   "nbconvert_exporter": "python",
   "pygments_lexer": "ipython3",
   "version": "3.8.3"
  }
 },
 "nbformat": 4,
 "nbformat_minor": 4
}
